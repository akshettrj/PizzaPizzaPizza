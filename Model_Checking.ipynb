{
  "cells": [
    {
      "cell_type": "markdown",
      "metadata": {
        "id": "UbOzFDdY4JfC"
      },
      "source": [
        "## Model Checking I: Posterior predictive check\n",
        "The technique implemented here answers the following problems:\n",
        "1. Are the model and parameters estimated a good fit for the underlying data?\n",
        "2. Given two separate models, which is a better fit for the underlying data?"
      ]
    },
    {
      "cell_type": "code",
      "execution_count": 54,
      "metadata": {
        "id": "xMkqjXaA3QpK"
      },
      "outputs": [],
      "source": [
        "import numpy as np\n",
        "import pandas as pd\n",
        "import json\n",
        "import matplotlib.pyplot as plt\n",
        "import pymc3 as pm\n",
        "import scipy\n",
        "import scipy.stats as stats\n",
        "import statsmodels.api as sm\n",
        "import theano.tensor as tt\n",
        "from IPython.display import Image\n",
        "\n",
        "%matplotlib inline\n",
        "plt.style.use('bmh')\n",
        "colors = ['#348ABD', '#A60628', '#7A68A6', '#467821', '#D55E00', \n",
        "          '#CC79A7', '#56B4E9', '#009E73', '#F0E442', '#0072B2']"
      ]
    },
    {
      "cell_type": "code",
      "execution_count": 55,
      "metadata": {
        "colab": {
          "base_uri": "https://localhost:8080/",
          "height": 313
        },
        "id": "4Y7oCPSiYbON",
        "outputId": "172f8c2b-2d5f-4e7b-8c48-ab51b3099339"
      },
      "outputs": [
        {
          "data": {
            "text/html": [
              "<div>\n",
              "<style scoped>\n",
              "    .dataframe tbody tr th:only-of-type {\n",
              "        vertical-align: middle;\n",
              "    }\n",
              "\n",
              "    .dataframe tbody tr th {\n",
              "        vertical-align: top;\n",
              "    }\n",
              "\n",
              "    .dataframe thead th {\n",
              "        text-align: right;\n",
              "    }\n",
              "</style>\n",
              "<table border=\"1\" class=\"dataframe\">\n",
              "  <thead>\n",
              "    <tr style=\"text-align: right;\">\n",
              "      <th></th>\n",
              "      <th>conversation_id</th>\n",
              "      <th>event_id</th>\n",
              "      <th>timestamp</th>\n",
              "      <th>sender</th>\n",
              "      <th>message_length</th>\n",
              "      <th>num_participants</th>\n",
              "      <th>message_type</th>\n",
              "      <th>prev_timestamp</th>\n",
              "      <th>prev_sender</th>\n",
              "      <th>time_delay_seconds</th>\n",
              "      <th>time_delay_mins</th>\n",
              "      <th>day_of_week</th>\n",
              "      <th>year_month</th>\n",
              "      <th>is_weekend</th>\n",
              "    </tr>\n",
              "  </thead>\n",
              "  <tbody>\n",
              "    <tr>\n",
              "      <th>0</th>\n",
              "      <td>Ugw5Xrm3ZO5mzAfKB7V4AaABAQ</td>\n",
              "      <td>7-H0Z7-FkyB7-HDBYj4KKh</td>\n",
              "      <td>2014-08-15 03:44:12.840015</td>\n",
              "      <td>Mark Regan</td>\n",
              "      <td>14</td>\n",
              "      <td>3</td>\n",
              "      <td>TEXT</td>\n",
              "      <td>2014-08-15 03:44:00.781653</td>\n",
              "      <td>Keir Alexander</td>\n",
              "      <td>12.0</td>\n",
              "      <td>1.0</td>\n",
              "      <td>4</td>\n",
              "      <td>2014-08</td>\n",
              "      <td>0</td>\n",
              "    </tr>\n",
              "    <tr>\n",
              "      <th>1</th>\n",
              "      <td>UgwLUkm5oqPrUyjqFlR4AaABAQ</td>\n",
              "      <td>85SWvmXIEV285Sb1E65xL0</td>\n",
              "      <td>2015-10-18 09:36:39.438706</td>\n",
              "      <td>Mark Regan</td>\n",
              "      <td>47</td>\n",
              "      <td>4</td>\n",
              "      <td>TEXT</td>\n",
              "      <td>2015-10-18 09:36:10.932367</td>\n",
              "      <td>Louise Regan</td>\n",
              "      <td>28.0</td>\n",
              "      <td>1.0</td>\n",
              "      <td>6</td>\n",
              "      <td>2015-10</td>\n",
              "      <td>1</td>\n",
              "    </tr>\n",
              "    <tr>\n",
              "      <th>2</th>\n",
              "      <td>UgwUBKMcZgFowQTz1Rt4AaABAQ</td>\n",
              "      <td>7-H0Z7-HQQg7-H1JJEmE5K</td>\n",
              "      <td>2013-12-19 02:49:28.552063</td>\n",
              "      <td>Mark Regan</td>\n",
              "      <td>44</td>\n",
              "      <td>2</td>\n",
              "      <td>TEXT</td>\n",
              "      <td>2013-12-19 02:48:50.916592</td>\n",
              "      <td>Daragh Walsh</td>\n",
              "      <td>37.0</td>\n",
              "      <td>1.0</td>\n",
              "      <td>3</td>\n",
              "      <td>2013-12</td>\n",
              "      <td>0</td>\n",
              "    </tr>\n",
              "    <tr>\n",
              "      <th>3</th>\n",
              "      <td>UgwUBKMcZgFowQTz1Rt4AaABAQ</td>\n",
              "      <td>7-H0Z7-HQQg7-H1NQV6lMv</td>\n",
              "      <td>2013-12-19 02:50:02.249113</td>\n",
              "      <td>Mark Regan</td>\n",
              "      <td>29</td>\n",
              "      <td>2</td>\n",
              "      <td>TEXT</td>\n",
              "      <td>2013-12-19 02:49:50.401824</td>\n",
              "      <td>Daragh Walsh</td>\n",
              "      <td>11.0</td>\n",
              "      <td>1.0</td>\n",
              "      <td>3</td>\n",
              "      <td>2013-12</td>\n",
              "      <td>0</td>\n",
              "    </tr>\n",
              "    <tr>\n",
              "      <th>4</th>\n",
              "      <td>UgwUBKMcZgFowQTz1Rt4AaABAQ</td>\n",
              "      <td>7-H0Z7-HQQg7-H1RPd1OTh</td>\n",
              "      <td>2013-12-19 02:50:34.906922</td>\n",
              "      <td>Mark Regan</td>\n",
              "      <td>102</td>\n",
              "      <td>2</td>\n",
              "      <td>TEXT</td>\n",
              "      <td>2013-12-19 02:50:11.427353</td>\n",
              "      <td>Daragh Walsh</td>\n",
              "      <td>23.0</td>\n",
              "      <td>1.0</td>\n",
              "      <td>3</td>\n",
              "      <td>2013-12</td>\n",
              "      <td>0</td>\n",
              "    </tr>\n",
              "  </tbody>\n",
              "</table>\n",
              "</div>"
            ],
            "text/plain": [
              "              conversation_id                event_id  ... year_month is_weekend\n",
              "0  Ugw5Xrm3ZO5mzAfKB7V4AaABAQ  7-H0Z7-FkyB7-HDBYj4KKh  ...    2014-08          0\n",
              "1  UgwLUkm5oqPrUyjqFlR4AaABAQ  85SWvmXIEV285Sb1E65xL0  ...    2015-10          1\n",
              "2  UgwUBKMcZgFowQTz1Rt4AaABAQ  7-H0Z7-HQQg7-H1JJEmE5K  ...    2013-12          0\n",
              "3  UgwUBKMcZgFowQTz1Rt4AaABAQ  7-H0Z7-HQQg7-H1NQV6lMv  ...    2013-12          0\n",
              "4  UgwUBKMcZgFowQTz1Rt4AaABAQ  7-H0Z7-HQQg7-H1RPd1OTh  ...    2013-12          0\n",
              "\n",
              "[5 rows x 14 columns]"
            ]
          },
          "execution_count": 55,
          "metadata": {},
          "output_type": "execute_result"
        }
      ],
      "source": [
        "messages = pd.read_csv('hangout_chat_data.csv')\n",
        "messages.head()"
      ]
    },
    {
      "cell_type": "code",
      "execution_count": 56,
      "metadata": {
        "colab": {
          "base_uri": "https://localhost:8080/",
          "height": 253
        },
        "id": "2v65NvJuawYf",
        "outputId": "0addb111-c637-4a8e-8dea-30137fde7fa5"
      },
      "outputs": [
        {
          "data": {
            "text/html": [
              "\n",
              "    <div>\n",
              "        <style>\n",
              "            /* Turns off some styling */\n",
              "            progress {\n",
              "                /* gets rid of default border in Firefox and Opera. */\n",
              "                border: none;\n",
              "                /* Needs to be in here for Safari polyfill so background images work as expected. */\n",
              "                background-size: auto;\n",
              "            }\n",
              "            .progress-bar-interrupted, .progress-bar-interrupted::-webkit-progress-bar {\n",
              "                background: #F44336;\n",
              "            }\n",
              "        </style>\n",
              "      <progress value='7' class='' max='7' style='width:300px; height:20px; vertical-align: middle;'></progress>\n",
              "      100.00% [7/7 00:00<00:00 logp = -7,014.3, ||grad|| = 5,369]\n",
              "    </div>\n",
              "    "
            ],
            "text/plain": [
              "<IPython.core.display.HTML object>"
            ]
          },
          "metadata": {},
          "output_type": "display_data"
        },
        {
          "name": "stdout",
          "output_type": "stream",
          "text": [
            "\n"
          ]
        },
        {
          "name": "stderr",
          "output_type": "stream",
          "text": [
            "/usr/local/lib/python3.7/dist-packages/ipykernel_launcher.py:9: FutureWarning: In v4.0, pm.sample will return an `arviz.InferenceData` object instead of a `MultiTrace` by default. You can pass return_inferencedata=True or return_inferencedata=False to be safe and silence this warning.\n",
            "  if __name__ == '__main__':\n",
            "Sequential sampling (2 chains in 1 job)\n",
            "CompoundStep\n",
            ">Metropolis: [y_pred]\n",
            ">Metropolis: [mu]\n"
          ]
        },
        {
          "data": {
            "text/html": [
              "\n",
              "    <div>\n",
              "        <style>\n",
              "            /* Turns off some styling */\n",
              "            progress {\n",
              "                /* gets rid of default border in Firefox and Opera. */\n",
              "                border: none;\n",
              "                /* Needs to be in here for Safari polyfill so background images work as expected. */\n",
              "                background-size: auto;\n",
              "            }\n",
              "            .progress-bar-interrupted, .progress-bar-interrupted::-webkit-progress-bar {\n",
              "                background: #F44336;\n",
              "            }\n",
              "        </style>\n",
              "      <progress value='201000' class='' max='201000' style='width:300px; height:20px; vertical-align: middle;'></progress>\n",
              "      100.00% [201000/201000 00:53<00:00 Sampling chain 0, 0 divergences]\n",
              "    </div>\n",
              "    "
            ],
            "text/plain": [
              "<IPython.core.display.HTML object>"
            ]
          },
          "metadata": {},
          "output_type": "display_data"
        },
        {
          "data": {
            "text/html": [
              "\n",
              "    <div>\n",
              "        <style>\n",
              "            /* Turns off some styling */\n",
              "            progress {\n",
              "                /* gets rid of default border in Firefox and Opera. */\n",
              "                border: none;\n",
              "                /* Needs to be in here for Safari polyfill so background images work as expected. */\n",
              "                background-size: auto;\n",
              "            }\n",
              "            .progress-bar-interrupted, .progress-bar-interrupted::-webkit-progress-bar {\n",
              "                background: #F44336;\n",
              "            }\n",
              "        </style>\n",
              "      <progress value='201000' class='' max='201000' style='width:300px; height:20px; vertical-align: middle;'></progress>\n",
              "      100.00% [201000/201000 00:53<00:00 Sampling chain 1, 0 divergences]\n",
              "    </div>\n",
              "    "
            ],
            "text/plain": [
              "<IPython.core.display.HTML object>"
            ]
          },
          "metadata": {},
          "output_type": "display_data"
        },
        {
          "name": "stderr",
          "output_type": "stream",
          "text": [
            "Sampling 2 chains for 1_000 tune and 200_000 draw iterations (2_000 + 400_000 draws total) took 107 seconds.\n",
            "The number of effective samples is smaller than 10% for some parameters.\n"
          ]
        }
      ],
      "source": [
        "with pm.Model() as model:\n",
        "    mu = pm.Uniform('mu', lower=0, upper=100)\n",
        "    y_est = pm.Poisson('y_est', mu=mu, observed=messages['time_delay_seconds'].values)\n",
        "\n",
        "    y_pred = pm.Poisson('y_pred', mu=mu)\n",
        "    \n",
        "    start = pm.find_MAP()\n",
        "    step = pm.Metropolis()\n",
        "    trace = pm.sample(200000, step, start=start, progressbar=True)"
      ]
    },
    {
      "cell_type": "code",
      "execution_count": 57,
      "metadata": {
        "colab": {
          "base_uri": "https://localhost:8080/",
          "height": 441
        },
        "id": "Euid_LNAcj8b",
        "outputId": "6ffdb090-1bec-4b5f-bb37-f0a2331d28ea"
      },
      "outputs": [
        {
          "data": {
            "image/png": "[encoded data removed]",
            "text/plain": [
              "<Figure size 720x432 with 2 Axes>"
            ]
          },
          "metadata": {
            "needs_background": "light"
          },
          "output_type": "display_data"
        }
      ],
      "source": [
        "x_lim = 60\n",
        "burnin = 50000\n",
        "\n",
        "y_pred = trace[burnin:].get_values('y_pred')\n",
        "mu_mean = trace[burnin:].get_values('mu').mean()\n",
        "\n",
        "fig = plt.figure(figsize=(10,6))\n",
        "fig.add_subplot(211)\n",
        "\n",
        "plt.hist(y_pred, range=[0, x_lim], bins=x_lim, histtype='stepfilled', color=colors[1])   \n",
        "plt.xlim(1, x_lim)\n",
        "plt.ylabel('Frequency')\n",
        "plt.title('Posterior predictive distribution')\n",
        "\n",
        "fig.add_subplot(212)\n",
        "\n",
        "plt.hist(messages['time_delay_seconds'].values, range=[0, x_lim], bins=x_lim, histtype='stepfilled')\n",
        "plt.xlabel('Response time in seconds')\n",
        "plt.ylabel('Frequency')\n",
        "plt.title('Distribution of observed data')\n",
        "\n",
        "plt.tight_layout()"
      ]
    },
    {
      "cell_type": "code",
      "execution_count": 58,
      "metadata": {
        "colab": {
          "base_uri": "https://localhost:8080/",
          "height": 369
        },
        "id": "zcPIsYvwiCC9",
        "outputId": "6b14a65e-0332-42d1-d1a1-377b03594840"
      },
      "outputs": [
        {
          "data": {
            "image/png": "[encoded data removed]",
            "text/plain": [
              "<Figure size 720x360 with 2 Axes>"
            ]
          },
          "metadata": {
            "needs_background": "light"
          },
          "output_type": "display_data"
        }
      ],
      "source": [
        "fig = plt.figure(figsize=(10,5))\n",
        "fig.add_subplot(211)\n",
        "x_lim = 70\n",
        "mu = [15, 40]\n",
        "for i in np.arange(x_lim):\n",
        "    plt.bar(i, stats.poisson.pmf(mu[0], i), color=colors[3])\n",
        "    plt.bar(i, stats.poisson.pmf(mu[1], i), color=colors[4])\n",
        "    \n",
        "plt.xlim(1, x_lim)\n",
        "plt.xlabel('Response time in seconds')\n",
        "plt.ylabel('Probability mass')\n",
        "plt.title('Poisson distribution')\n",
        "plt.legend(['$\\lambda$ = %s' % mu[0],\n",
        "                '$\\lambda$ = %s' % mu[1]])\n",
        "\n",
        "# Scipy takes parameters n & p, not mu & alpha\n",
        "def get_n(mu, alpha):\n",
        "    return 1. / alpha * mu\n",
        "\n",
        "def get_p(mu, alpha):\n",
        "    return get_n(mu, alpha) / (get_n(mu, alpha) + mu)\n",
        "\n",
        "fig.add_subplot(212)\n",
        "\n",
        "a = [2, 4]\n",
        "\n",
        "for i in np.arange(x_lim):\n",
        "    plt.bar(i, stats.nbinom.pmf(i, n=get_n(mu[0], a[0]), p=get_p(mu[0], a[0])), color=colors[3])\n",
        "    plt.bar(i, stats.nbinom.pmf(i, n=get_n(mu[1], a[1]), p=get_p(mu[1], a[1])), color=colors[4])\n",
        "\n",
        "plt.xlabel('Response time in seconds')\n",
        "plt.ylabel('Probability mass')\n",
        "plt.title('Negative Binomial distribution')\n",
        "plt.legend(['$\\\\mu = %s, \\/ \\\\beta = %s$' % (mu[0], a[0]),\n",
        "                '$\\\\mu = %s, \\/ \\\\beta = %s$' % (mu[1], a[1])])\n",
        "\n",
        "plt.tight_layout()"
      ]
    },
    {
      "cell_type": "code",
      "execution_count": 59,
      "metadata": {
        "colab": {
          "base_uri": "https://localhost:8080/",
          "height": 271
        },
        "id": "3YPxJ3QwCijv",
        "outputId": "60063087-960e-4b89-a466-249cecacf2dd"
      },
      "outputs": [
        {
          "data": {
            "text/html": [
              "\n",
              "    <div>\n",
              "        <style>\n",
              "            /* Turns off some styling */\n",
              "            progress {\n",
              "                /* gets rid of default border in Firefox and Opera. */\n",
              "                border: none;\n",
              "                /* Needs to be in here for Safari polyfill so background images work as expected. */\n",
              "                background-size: auto;\n",
              "            }\n",
              "            .progress-bar-interrupted, .progress-bar-interrupted::-webkit-progress-bar {\n",
              "                background: #F44336;\n",
              "            }\n",
              "        </style>\n",
              "      <progress value='10' class='' max='10' style='width:300px; height:20px; vertical-align: middle;'></progress>\n",
              "      100.00% [10/10 00:00<00:00 logp = -1,756.7, ||grad|| = 589.95]\n",
              "    </div>\n",
              "    "
            ],
            "text/plain": [
              "<IPython.core.display.HTML object>"
            ]
          },
          "metadata": {},
          "output_type": "display_data"
        },
        {
          "name": "stdout",
          "output_type": "stream",
          "text": [
            "\n"
          ]
        },
        {
          "name": "stderr",
          "output_type": "stream",
          "text": [
            "/usr/local/lib/python3.7/dist-packages/ipykernel_launcher.py:10: FutureWarning: In v4.0, pm.sample will return an `arviz.InferenceData` object instead of a `MultiTrace` by default. You can pass return_inferencedata=True or return_inferencedata=False to be safe and silence this warning.\n",
            "  # Remove the CWD from sys.path while we load stuff.\n",
            "Sequential sampling (2 chains in 1 job)\n",
            "CompoundStep\n",
            ">Metropolis: [y_pred]\n",
            ">Metropolis: [mu]\n",
            ">Metropolis: [alpha]\n"
          ]
        },
        {
          "data": {
            "text/html": [
              "\n",
              "    <div>\n",
              "        <style>\n",
              "            /* Turns off some styling */\n",
              "            progress {\n",
              "                /* gets rid of default border in Firefox and Opera. */\n",
              "                border: none;\n",
              "                /* Needs to be in here for Safari polyfill so background images work as expected. */\n",
              "                background-size: auto;\n",
              "            }\n",
              "            .progress-bar-interrupted, .progress-bar-interrupted::-webkit-progress-bar {\n",
              "                background: #F44336;\n",
              "            }\n",
              "        </style>\n",
              "      <progress value='201000' class='' max='201000' style='width:300px; height:20px; vertical-align: middle;'></progress>\n",
              "      100.00% [201000/201000 01:50<00:00 Sampling chain 0, 0 divergences]\n",
              "    </div>\n",
              "    "
            ],
            "text/plain": [
              "<IPython.core.display.HTML object>"
            ]
          },
          "metadata": {},
          "output_type": "display_data"
        },
        {
          "data": {
            "text/html": [
              "\n",
              "    <div>\n",
              "        <style>\n",
              "            /* Turns off some styling */\n",
              "            progress {\n",
              "                /* gets rid of default border in Firefox and Opera. */\n",
              "                border: none;\n",
              "                /* Needs to be in here for Safari polyfill so background images work as expected. */\n",
              "                background-size: auto;\n",
              "            }\n",
              "            .progress-bar-interrupted, .progress-bar-interrupted::-webkit-progress-bar {\n",
              "                background: #F44336;\n",
              "            }\n",
              "        </style>\n",
              "      <progress value='201000' class='' max='201000' style='width:300px; height:20px; vertical-align: middle;'></progress>\n",
              "      100.00% [201000/201000 01:49<00:00 Sampling chain 1, 0 divergences]\n",
              "    </div>\n",
              "    "
            ],
            "text/plain": [
              "<IPython.core.display.HTML object>"
            ]
          },
          "metadata": {},
          "output_type": "display_data"
        },
        {
          "name": "stderr",
          "output_type": "stream",
          "text": [
            "Sampling 2 chains for 1_000 tune and 200_000 draw iterations (2_000 + 400_000 draws total) took 219 seconds.\n",
            "The number of effective samples is smaller than 10% for some parameters.\n"
          ]
        }
      ],
      "source": [
        "with pm.Model() as model:\n",
        "    alpha = pm.Exponential('alpha', lam=.2)\n",
        "    mu = pm.Uniform('mu', lower=0, upper=100)\n",
        "    \n",
        "    y_pred = pm.NegativeBinomial('y_pred', mu=mu, alpha=alpha)\n",
        "    y_est = pm.NegativeBinomial('y_est', mu=mu, alpha=alpha, observed=messages['time_delay_seconds'].values)\n",
        "    \n",
        "    start = pm.find_MAP()\n",
        "    step = pm.Metropolis()\n",
        "    trace = pm.sample(200000, step, start=start, progressbar=True)"
      ]
    },
    {
      "cell_type": "code",
      "execution_count": 60,
      "metadata": {
        "colab": {
          "base_uri": "https://localhost:8080/",
          "height": 496
        },
        "id": "tWz9jEXmClsx",
        "outputId": "fb7d5c71-aa98-4dcd-df19-13ef7b83da2e"
      },
      "outputs": [
        {
          "name": "stderr",
          "output_type": "stream",
          "text": [
            "/usr/local/lib/python3.7/dist-packages/ipykernel_launcher.py:7: MatplotlibDeprecationWarning: Adding an axes using the same arguments as a previous axes currently reuses the earlier instance.  In a future version, a new instance will always be created and returned.  Meanwhile, this warning can be suppressed, and the future behavior ensured, by passing a unique label to each axes instance.\n",
            "  import sys\n"
          ]
        },
        {
          "data": {
            "image/png": "[encoded data removed]",
            "text/plain": [
              "<Figure size 720x432 with 2 Axes>"
            ]
          },
          "metadata": {
            "needs_background": "light"
          },
          "output_type": "display_data"
        }
      ],
      "source": [
        "x_lim = 60\n",
        "y_pred = trace[burnin:].get_values('y_pred')\n",
        "\n",
        "fig = plt.figure(figsize=(10,6))\n",
        "fig.add_subplot(211)\n",
        "\n",
        "fig.add_subplot(211)\n",
        "\n",
        "plt.hist(y_pred, range=[0, x_lim], bins=x_lim, histtype='stepfilled', color=colors[1])   \n",
        "plt.xlim(1, x_lim)\n",
        "plt.ylabel('Frequency')\n",
        "plt.title('Posterior predictive distribution')\n",
        "\n",
        "fig.add_subplot(212)\n",
        "\n",
        "plt.hist(messages['time_delay_seconds'].values, range=[0, x_lim], bins=x_lim, histtype='stepfilled')\n",
        "plt.xlabel('Response time in seconds')\n",
        "plt.ylabel('Frequency')\n",
        "plt.title('Distribution of observed data')\n",
        "\n",
        "plt.tight_layout()"
      ]
    },
    {
      "cell_type": "markdown",
      "metadata": {
        "id": "D94S6SmDCo6s"
      },
      "source": [
        "## Model Checking II: Bayes Factor"
      ]
    },
    {
      "cell_type": "code",
      "execution_count": 65,
      "metadata": {
        "colab": {
          "base_uri": "https://localhost:8080/",
          "height": 340
        },
        "id": "gt5Mc4yxCqn4",
        "outputId": "e4379345-e98b-49e2-f93c-88f5c99dc06d"
      },
      "outputs": [
        {
          "data": {
            "text/html": [
              "\n",
              "    <div>\n",
              "        <style>\n",
              "            /* Turns off some styling */\n",
              "            progress {\n",
              "                /* gets rid of default border in Firefox and Opera. */\n",
              "                border: none;\n",
              "                /* Needs to be in here for Safari polyfill so background images work as expected. */\n",
              "                background-size: auto;\n",
              "            }\n",
              "            .progress-bar-interrupted, .progress-bar-interrupted::-webkit-progress-bar {\n",
              "                background: #F44336;\n",
              "            }\n",
              "        </style>\n",
              "      <progress value='7' class='' max='7' style='width:300px; height:20px; vertical-align: middle;'></progress>\n",
              "      100.00% [7/7 00:00<00:00 logp = -1,468.5, ||grad|| = 295.67]\n",
              "    </div>\n",
              "    "
            ],
            "text/plain": [
              "<IPython.core.display.HTML object>"
            ]
          },
          "metadata": {},
          "output_type": "display_data"
        },
        {
          "name": "stdout",
          "output_type": "stream",
          "text": [
            "\n"
          ]
        },
        {
          "name": "stderr",
          "output_type": "stream",
          "text": [
            "/usr/local/lib/python3.7/dist-packages/ipykernel_launcher.py:24: DeprecationWarning: ElemwiseCategorical is deprecated, switch to CategoricalGibbsMetropolis.\n",
            "/usr/local/lib/python3.7/dist-packages/ipykernel_launcher.py:25: FutureWarning: In v4.0, pm.sample will return an `arviz.InferenceData` object instead of a `MultiTrace` by default. You can pass return_inferencedata=True or return_inferencedata=False to be safe and silence this warning.\n",
            "Sequential sampling (2 chains in 1 job)\n",
            "CompoundStep\n",
            ">CompoundStep\n",
            ">>Metropolis: [mu_nb]\n",
            ">>Metropolis: [alpha]\n",
            ">>Metropolis: [mu_p]\n",
            ">ElemwiseCategorical: [tau]\n"
          ]
        },
        {
          "data": {
            "text/html": [
              "\n",
              "    <div>\n",
              "        <style>\n",
              "            /* Turns off some styling */\n",
              "            progress {\n",
              "                /* gets rid of default border in Firefox and Opera. */\n",
              "                border: none;\n",
              "                /* Needs to be in here for Safari polyfill so background images work as expected. */\n",
              "                background-size: auto;\n",
              "            }\n",
              "            .progress-bar-interrupted, .progress-bar-interrupted::-webkit-progress-bar {\n",
              "                background: #F44336;\n",
              "            }\n",
              "        </style>\n",
              "      <progress value='201000' class='' max='201000' style='width:300px; height:20px; vertical-align: middle;'></progress>\n",
              "      100.00% [201000/201000 03:27<00:00 Sampling chain 0, 0 divergences]\n",
              "    </div>\n",
              "    "
            ],
            "text/plain": [
              "<IPython.core.display.HTML object>"
            ]
          },
          "metadata": {},
          "output_type": "display_data"
        },
        {
          "name": "stderr",
          "output_type": "stream",
          "text": [
            "/usr/local/lib/python3.7/dist-packages/pymc3/step_methods/metropolis.py:226: RuntimeWarning: overflow encountered in exp\n",
            "  \"accept\": np.exp(accept),\n"
          ]
        },
        {
          "data": {
            "text/html": [
              "\n",
              "    <div>\n",
              "        <style>\n",
              "            /* Turns off some styling */\n",
              "            progress {\n",
              "                /* gets rid of default border in Firefox and Opera. */\n",
              "                border: none;\n",
              "                /* Needs to be in here for Safari polyfill so background images work as expected. */\n",
              "                background-size: auto;\n",
              "            }\n",
              "            .progress-bar-interrupted, .progress-bar-interrupted::-webkit-progress-bar {\n",
              "                background: #F44336;\n",
              "            }\n",
              "        </style>\n",
              "      <progress value='201000' class='' max='201000' style='width:300px; height:20px; vertical-align: middle;'></progress>\n",
              "      100.00% [201000/201000 03:27<00:00 Sampling chain 1, 0 divergences]\n",
              "    </div>\n",
              "    "
            ],
            "text/plain": [
              "<IPython.core.display.HTML object>"
            ]
          },
          "metadata": {},
          "output_type": "display_data"
        },
        {
          "name": "stderr",
          "output_type": "stream",
          "text": [
            "Sampling 2 chains for 1_000 tune and 200_000 draw iterations (2_000 + 400_000 draws total) took 415 seconds.\n",
            "The number of effective samples is smaller than 10% for some parameters.\n"
          ]
        }
      ],
      "source": [
        "with pm.Model() as model:\n",
        "    \n",
        "    # Index to true model\n",
        "    prior_model_prob = 0.5\n",
        "    #tau = pm.DiscreteUniform('tau', lower=0, upper=1)\n",
        "    tau = pm.Bernoulli('tau', prior_model_prob)\n",
        "    \n",
        "    # Poisson parameters\n",
        "    mu_p = pm.Uniform('mu_p', 0, 60)\n",
        "\n",
        "    # Negative Binomial parameters\n",
        "    alpha = pm.Exponential('alpha', lam=0.2)\n",
        "    mu_nb = pm.Uniform('mu_nb', lower=0, upper=60)\n",
        "\n",
        "    y_like = pm.DensityDist('y_like',\n",
        "             lambda value: pm.math.switch(tau, \n",
        "                 pm.Poisson.dist(mu_p).logp(value),\n",
        "                 pm.NegativeBinomial.dist(mu_nb, alpha).logp(value)\n",
        "             ),\n",
        "             observed=messages['time_delay_seconds'].values)\n",
        "    \n",
        "    start = pm.find_MAP()\n",
        "    step1 = pm.Metropolis([mu_p, alpha, mu_nb])\n",
        "    step2 = pm.ElemwiseCategorical(vars=[tau], values=[0,1])\n",
        "    trace = pm.sample(200000, step=[step1, step2], start=start)"
      ]
    },
    {
      "cell_type": "code",
      "execution_count": 69,
      "metadata": {
        "colab": {
          "base_uri": "https://localhost:8080/",
          "height": 309
        },
        "id": "4B6mtDd8GiO1",
        "outputId": "e6b8358e-161a-4444-bb1f-0971388cd761"
      },
      "outputs": [
        {
          "name": "stderr",
          "output_type": "stream",
          "text": [
            "Got error No model on context stack. trying to find log_likelihood in translation.\n",
            "/usr/local/lib/python3.7/dist-packages/arviz/data/io_pymc3_3x.py:102: FutureWarning: Using `from_pymc3` without the model will be deprecated in a future release. Not using the model will return less accurate and less useful results. Make sure you use the model argument or call from_pymc3 within a model context.\n",
            "  FutureWarning,\n",
            "Got error No model on context stack. trying to find log_likelihood in translation.\n"
          ]
        },
        {
          "data": {
            "text/plain": [
              "array([[<matplotlib.axes._subplots.AxesSubplot object at 0x7f261d008750>,\n",
              "        <matplotlib.axes._subplots.AxesSubplot object at 0x7f261e1ad4d0>]],\n",
              "      dtype=object)"
            ]
          },
          "execution_count": 69,
          "metadata": {},
          "output_type": "execute_result"
        },
        {
          "data": {
            "image/png": "[encoded data removed]",
            "text/plain": [
              "<Figure size 864x144 with 2 Axes>"
            ]
          },
          "metadata": {
            "needs_background": "light"
          },
          "output_type": "display_data"
        }
      ],
      "source": [
        "pm.plot_trace(trace[burnin:], var_names=['tau'])\n"
      ]
    },
    {
      "cell_type": "code",
      "execution_count": 67,
      "metadata": {
        "colab": {
          "base_uri": "https://localhost:8080/"
        },
        "id": "jvookw-CCt2A",
        "outputId": "553675d3-6016-4e3e-9625-63249460b24f"
      },
      "outputs": [
        {
          "name": "stdout",
          "output_type": "stream",
          "text": [
            "Bayes Factor: 1.891594135847092\n"
          ]
        }
      ],
      "source": [
        "# Compute the Bayes factor\n",
        "prob_pois = trace[burnin:]['tau'].mean()\n",
        "prob_nb = 1 - prob_pois\n",
        "BF = (prob_nb/prob_pois)*(prior_model_prob/(1-prior_model_prob))\n",
        "print(\"Bayes Factor: %s\" % BF)"
      ]
    }
  ],
  "metadata": {
    "colab": {
      "name": "Model_Checking.ipynb",
      "provenance": []
    },
    "kernelspec": {
      "display_name": "Python 3",
      "name": "python3"
    },
    "language_info": {
      "name": "python"
    }
  },
  "nbformat": 4,
  "nbformat_minor": 0
}
